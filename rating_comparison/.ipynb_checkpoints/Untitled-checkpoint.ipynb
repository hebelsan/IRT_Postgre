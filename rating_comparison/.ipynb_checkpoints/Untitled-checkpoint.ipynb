{
 "cells": [
  {
   "cell_type": "code",
   "execution_count": 56,
   "metadata": {},
   "outputs": [],
   "source": [
    "import numpy as np\n",
    "import matplotlib.pyplot as plt\n",
    "\n",
    "import json"
   ]
  },
  {
   "cell_type": "code",
   "execution_count": 59,
   "metadata": {},
   "outputs": [],
   "source": [
    "class Loader:\n",
    "    def __init__(self, page_file, sec_file):\n",
    "        docs_rating = {}\n",
    "        with open(page_file) as json_file:\n",
    "            data = json.load(json_file)\n",
    "            max_r = 0\n",
    "            for p in data['pages']:\n",
    "                if max_r < p['rank']:\n",
    "                    max_r = p['rank']\n",
    "            for p in data['pages']:\n",
    "                docs_rating[p['page_id']] = p['rank'] * (1/max_r)\n",
    "        pages_dict = {}\n",
    "        with open(sec_file) as json_file:\n",
    "            data = json.load(json_file)\n",
    "            for p in data['sections']:\n",
    "                pages_dict[p['page_id']] = []\n",
    "            for p in data['sections']:\n",
    "                pages_dict[p['page_id']].append({'sec_id': p['section_id'], 'rank': p['rank']})\n",
    "\n",
    "        pages = []\n",
    "        max_sum = 0\n",
    "        for page_id, section_vals in pages_dict.items():\n",
    "            r_sum = 0\n",
    "            for secs in section_vals:\n",
    "                r_sum += secs['rank']\n",
    "            if max_sum < r_sum:\n",
    "                max_sum = r_sum\n",
    "        fac = 1/max_sum\n",
    "        for page_id, section_vals in pages_dict.items():\n",
    "            r_sum = 0\n",
    "            r_max = 0\n",
    "            for secs in section_vals:\n",
    "                if secs['rank'] > r_max:\n",
    "                    r_max = secs['rank']\n",
    "                r_sum += secs['rank']\n",
    "            pages.append({'p_id': page_id, 'r_left': (r_sum-r_max)*fac, 'r_max': r_max*fac, 'r_sum': r_sum*fac})\n",
    "        pages = sorted(pages, key=lambda k: k['r_sum'], reverse=True)\n",
    "        \n",
    "        self.p_ids = []\n",
    "        self.r_leftovers = []\n",
    "        self.r_max = []\n",
    "\n",
    "        self.total_pange_rank = []\n",
    "\n",
    "        for p in pages:\n",
    "            self.p_ids.append(p['p_id'])\n",
    "            self.r_leftovers.append(p['r_left'])\n",
    "            self.r_max.append(p['r_max'])\n",
    "            self.total_pange_rank.append(docs_rating[p['p_id']])\n",
    "        \n",
    "    def show_only_sec(self, number_pages, save_name):\n",
    "        N = number_pages\n",
    "        ind = np.arange(N)\n",
    "        width = 0.35       # the width of the bars: can also be len(x) sequence\n",
    "\n",
    "        fig, ax = plt.subplots()\n",
    "        p1 = ax.bar(ind, self.r_max[0:N], width)\n",
    "        p2 = ax.bar(ind, self.r_leftovers[0:N], width, bottom=self.r_max[0:N])\n",
    "\n",
    "        plt.ylabel('Rating')\n",
    "        plt.xlabel('Doc id')\n",
    "        plt.title('Ratings of single sections')\n",
    "        plt.xticks(ind, self.p_ids[0:N])\n",
    "        plt.legend((p1[0], p2[0]), ('max rating sec', 'remain rating sec'))\n",
    "        \n",
    "        plt.savefig(\"graphs/\" + save_name + \"_only_sec.pdf\")\n",
    "        plt.show()\n",
    "    \n",
    "    def show_together(self, number_pages, save_name):\n",
    "        N = number_pages\n",
    "        ind = np.arange(N)\n",
    "        width = 0.35       # the width of the bars: can also be len(x) sequence\n",
    "\n",
    "        fig, ax = plt.subplots()\n",
    "        p1 = ax.bar(ind, self.r_max[0:N], width)\n",
    "        p2 = ax.bar(ind, self.r_leftovers[0:N], width, bottom=self.r_max[0:N])\n",
    "        p3 = ax.bar(ind+width, self.total_pange_rank[0:N], width)\n",
    "\n",
    "        plt.ylabel('Rating')\n",
    "        plt.xlabel('Doc id')\n",
    "        plt.title('Ratings of single sections')\n",
    "        plt.xticks(ind, self.p_ids[0:N])\n",
    "        plt.legend((p1[0], p2[0], p3[0]), ('max rating sec', 'remain rating sec', 'page rating'))\n",
    "        \n",
    "        plt.savefig(\"graphs/\" + save_name + \"_together.pdf\")\n",
    "        plt.show()"
   ]
  },
  {
   "cell_type": "code",
   "execution_count": 60,
   "metadata": {},
   "outputs": [
    {
     "data": {
      "image/png": "[encoded data removed]",
      "text/plain": [
       "<Figure size 432x288 with 1 Axes>"
      ]
     },
     "metadata": {
      "needs_background": "light"
     },
     "output_type": "display_data"
    },
    {
     "data": {
      "image/png": "[encoded data removed]",
      "text/plain": [
       "<Figure size 432x288 with 1 Axes>"
      ]
     },
     "metadata": {
      "needs_background": "light"
     },
     "output_type": "display_data"
    }
   ],
   "source": [
    "test = Loader(\"data/small_page_sports.txt\", \"data/small_section_sports.txt\")\n",
    "test.show_only_sec(10, \"small\")\n",
    "test.show_together(10, \"small\")"
   ]
  },
  {
   "cell_type": "code",
   "execution_count": null,
   "metadata": {},
   "outputs": [],
   "source": []
  }
 ],
 "metadata": {
  "kernelspec": {
   "display_name": "Python 3",
   "language": "python",
   "name": "python3"
  },
  "language_info": {
   "codemirror_mode": {
    "name": "ipython",
    "version": 3
   },
   "file_extension": ".py",
   "mimetype": "text/x-python",
   "name": "python",
   "nbconvert_exporter": "python",
   "pygments_lexer": "ipython3",
   "version": "3.6.9"
  }
 },
 "nbformat": 4,
 "nbformat_minor": 2
}
